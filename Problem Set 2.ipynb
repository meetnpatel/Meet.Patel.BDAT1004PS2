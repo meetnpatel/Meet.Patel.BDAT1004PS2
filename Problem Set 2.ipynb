{
  "nbformat": 4,
  "nbformat_minor": 0,
  "metadata": {
    "colab": {
      "name": "Problem Set 2.ipynb",
      "provenance": [],
      "collapsed_sections": [
        "L2eVpec_Mafx",
        "EJUzgHk1MPKH",
        "aq8ETx3wN-kB",
        "8DYdHp5ClCan",
        "xcXEBGYfqt9L",
        "UsWXQXm5pAML",
        "DjieQ7lhxWj6"
      ]
    },
    "kernelspec": {
      "name": "python3",
      "display_name": "Python 3"
    }
  },
  "cells": [
    {
      "cell_type": "markdown",
      "metadata": {
        "id": "9L2jBOcY5d2A"
      },
      "source": [
        "#**Problem Set 2**"
      ]
    },
    {
      "cell_type": "markdown",
      "metadata": {
        "id": "L2eVpec_Mafx"
      },
      "source": [
        "##**Question 1**\n",
        "Consider the following Python module:"
      ]
    },
    {
      "cell_type": "code",
      "metadata": {
        "id": "4wbePRBUOTDm"
      },
      "source": [
        "a = 0\n",
        "\n",
        "def b():\n",
        "    global a\n",
        "    a = c(a)\n",
        "\n",
        "def c(a):\n",
        "    return a + 2"
      ],
      "execution_count": null,
      "outputs": []
    },
    {
      "cell_type": "markdown",
      "metadata": {
        "id": "7LbeN8CZkCKF"
      },
      "source": [
        "After importing the module into the interpreter, you execute:\n",
        "    \n",
        "    >>> b()\n",
        "    >>> b()\n",
        "    >>> b()\n",
        "    >>> a\n",
        "\n",
        "What value is displayed when the last expression (a) is evaluated? Explain your answer by indicating what happens in every executed statement."
      ]
    },
    {
      "cell_type": "code",
      "metadata": {
        "id": "kk21TEzLNZgn",
        "outputId": "5442a4f9-f2c0-4723-b862-fa35d27d7e31",
        "colab": {
          "base_uri": "https://localhost:8080/",
          "height": 68
        }
      },
      "source": [
        "# Answer\n",
        "b()\n",
        "print(a)\n",
        "b()\n",
        "print(a)\n",
        "b()\n",
        "print(a)"
      ],
      "execution_count": null,
      "outputs": [
        {
          "output_type": "stream",
          "text": [
            "2\n",
            "4\n",
            "6\n"
          ],
          "name": "stdout"
        }
      ]
    },
    {
      "cell_type": "markdown",
      "metadata": {
        "id": "3UueIvzmLal_"
      },
      "source": [
        "It displays 6. The variable a is defined as global in function b(), this changes its scope from local to global, therefore the change/definition in the function persists for rest of the code, even after function execution. Due to that in each execution of b(), 2 is added to the variable value. b() is executed 3 times resulting in value 6 (2+2+2) of variable a."
      ]
    },
    {
      "cell_type": "markdown",
      "metadata": {
        "id": "EJUzgHk1MPKH"
      },
      "source": [
        "##**Question 2**"
      ]
    },
    {
      "cell_type": "code",
      "metadata": {
        "id": "fVOOSYJ7LK1C",
        "outputId": "fb599a1c-13ed-42a4-a307-3cc30587edf7",
        "colab": {
          "base_uri": "https://localhost:8080/",
          "height": 68
        }
      },
      "source": [
        "def file_length(file_name):\n",
        "    try:\n",
        "        file = open(file_name)\n",
        "        contents = file.read()\n",
        "    except FileNotFoundError:                       # Handle Error if File not found\n",
        "        print(\"File '\"+ file_name +\"' not found!\")\n",
        "        return\n",
        "    except UnicodeDecodeError:                      # Handle Error if file not readable\n",
        "        print(\"File '\"+ file_name +\"' can't be read. Please open a text file!\")\n",
        "        return\n",
        "    \n",
        "    file.close()\n",
        "    print(len(contents))\n",
        "\n",
        "file_length(\"unknown_file.txt\")                     # Non-existing file\n",
        "file_length(\"Smoke Signals intro.mp3\")              # Existing File but mp3\n",
        "file_length(\"NPTEL.txt\")                            # Existing txt file"
      ],
      "execution_count": null,
      "outputs": [
        {
          "output_type": "stream",
          "text": [
            "File 'unknown_file.txt' not found!\n",
            "File 'Smoke Signals intro.mp3' can't be read. Please open a text file!\n",
            "384\n"
          ],
          "name": "stdout"
        }
      ]
    },
    {
      "cell_type": "markdown",
      "metadata": {
        "id": "aq8ETx3wN-kB"
      },
      "source": [
        "##**Question 3**\n",
        "Write a class named Marsupial as per the question."
      ]
    },
    {
      "cell_type": "code",
      "metadata": {
        "id": "EimJxzQHOAvo"
      },
      "source": [
        "class Marsupial():\n",
        "\n",
        "    def __init__(self):\n",
        "        self.pouch = []\n",
        "        self.item = \"\"\n",
        "    \n",
        "    def put_in_pouch(self, item):\n",
        "        self.pouch.append(item)\n",
        "\n",
        "    def pouch_contents(self):\n",
        "        print(self.pouch)"
      ],
      "execution_count": 1,
      "outputs": []
    },
    {
      "cell_type": "code",
      "metadata": {
        "id": "c5ksPMTWPA5Z",
        "outputId": "f91bbf7c-fec3-46b7-cfcf-2da67c6d9905",
        "colab": {
          "base_uri": "https://localhost:8080/"
        }
      },
      "source": [
        "m = Marsupial()\n",
        "m.put_in_pouch(\"Sword\")\n",
        "m.put_in_pouch(\"Magic Orb\")\n",
        "m.put_in_pouch(\"Healing Potion\")\n",
        "m.pouch_contents()"
      ],
      "execution_count": 2,
      "outputs": [
        {
          "output_type": "stream",
          "text": [
            "['Sword', 'Magic Orb', 'Healing Potion']\n"
          ],
          "name": "stdout"
        }
      ]
    },
    {
      "cell_type": "code",
      "metadata": {
        "id": "akR0AaNtRRxf"
      },
      "source": [
        "class Kangaroo(Marsupial):\n",
        "\n",
        "    def __init__(self, x, y):\n",
        "        Marsupial.__init__(self)\n",
        "        self.x = x\n",
        "        self.y = y\n",
        "\n",
        "    def jump(self, dx, dy):\n",
        "        self.x += dx\n",
        "        self.y += dy\n",
        "\n",
        "    def __str__(self):\n",
        "        return \"I am a Kangaroo located at coordinates (\"+ str(self.x) +\",\"+ str(self.y) +\")\""
      ],
      "execution_count": 16,
      "outputs": []
    },
    {
      "cell_type": "code",
      "metadata": {
        "id": "OU6oYbGHcwQd",
        "outputId": "d1c27676-2359-490d-bd7f-b854476ab19c",
        "colab": {
          "base_uri": "https://localhost:8080/"
        }
      },
      "source": [
        "k = Kangaroo(0,0)\n",
        "k.put_in_pouch(\"Dagger\")\n",
        "k.put_in_pouch(\"Black Magic Orb\")\n",
        "k.put_in_pouch(\"Fire Potion\")\n",
        "k.pouch_contents()\n",
        "\n",
        "k.jump(1,0)\n",
        "k.jump(1,1)\n",
        "k.jump(2,3)\n",
        "print(k)"
      ],
      "execution_count": 17,
      "outputs": [
        {
          "output_type": "stream",
          "text": [
            "['Dagger', 'Black Magic Orb', 'Fire Potion']\n",
            "I am a Kangaroo located at coordinates (4,4)\n"
          ],
          "name": "stdout"
        }
      ]
    },
    {
      "cell_type": "markdown",
      "metadata": {
        "id": "t-EqtZzGkkEU"
      },
      "source": [
        "##**Question 4**\n",
        "Implement a new GUI class App that combines user-defined tkinter widget classes\n",
        "Calculator and Mortgage displayed below: (This question can be done using a\n",
        ".py file)"
      ]
    },
    {
      "cell_type": "markdown",
      "metadata": {
        "id": "_IGI00ra48hM"
      },
      "source": [
        "![Screenshot.png](data:image/png;base64,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)"
      ]
    },
    {
      "cell_type": "markdown",
      "metadata": {
        "id": "8DYdHp5ClCan"
      },
      "source": [
        "##**Question 5**\n",
        "Write function collatz() that takes a positive integer x as input and prints the\n",
        "Collatz sequence starting at x. A Collatz sequence is obtained by repeatedly applying\n",
        "this rule to the previous number x in the sequence:\n",
        "\n",
        "    x = {  𝑥/2 𝑖𝑓 𝑥 𝑖𝑠 𝑒𝑣𝑒𝑛\n",
        "           3𝑥 + 1 𝑖𝑓 𝑥 𝑖𝑠 𝑜𝑑d\n",
        "Your function should stop when the sequence gets to number 1. Your\n",
        "implementation must be recursive, without any loops."
      ]
    },
    {
      "cell_type": "code",
      "metadata": {
        "id": "isqxB96jmLhx",
        "outputId": "f624d357-1144-4566-d58f-577470ff965b",
        "colab": {
          "base_uri": "https://localhost:8080/",
          "height": 119
        }
      },
      "source": [
        "def collatz(n):\n",
        "    if n == 1:            # if number 1\n",
        "        print(n)\n",
        "        return\n",
        "    elif n % 2 == 0:      # if number even\n",
        "        print(n)\n",
        "        n //= 2\n",
        "    else:                 # if number odd\n",
        "        print(n)\n",
        "        n = 3 * n + 1\n",
        "    collatz(n)\n",
        "\n",
        "collatz(5)"
      ],
      "execution_count": null,
      "outputs": [
        {
          "output_type": "stream",
          "text": [
            "5\n",
            "16\n",
            "8\n",
            "4\n",
            "2\n",
            "1\n"
          ],
          "name": "stdout"
        }
      ]
    },
    {
      "cell_type": "markdown",
      "metadata": {
        "id": "xcXEBGYfqt9L"
      },
      "source": [
        "##**Question 6**\n",
        "Write a recursive method binary() that takes a non-negative integer n and prints the binary representation of integer n."
      ]
    },
    {
      "cell_type": "code",
      "metadata": {
        "id": "HpsstK7ArFjV",
        "outputId": "e613be98-d04a-4f86-cbd0-40b158e3de25",
        "colab": {
          "base_uri": "https://localhost:8080/",
          "height": 34
        }
      },
      "source": [
        "def binary(num):\n",
        "    if num == 0:\n",
        "        return 0\n",
        "    else: \n",
        "        return (num % 2 + 10 * binary(num // 2))    # Formula to convert decimal to binary in sequence\n",
        "\n",
        "binary(10)"
      ],
      "execution_count": null,
      "outputs": [
        {
          "output_type": "execute_result",
          "data": {
            "text/plain": [
              "1010"
            ]
          },
          "metadata": {
            "tags": []
          },
          "execution_count": 50
        }
      ]
    },
    {
      "cell_type": "markdown",
      "metadata": {
        "id": "T3_A8g7Q_g-Q"
      },
      "source": [
        "##**Question 7**\n",
        "Implement a class named headingParser that can be used to parse an HTML document, and retrieve and print all the headings in the document. You should implement your class as a subclass of HTMLParser, defined in Standard Library module html.parser. When fed a string containing HTML code, your class should print the headings, one per line and in the order in which they appear in the document. Each heading should be indented as follows: an h1 heading should have indentation 0, and h2 heading should have indentation 1, etc. Test your implementation using w3c.html.\n"
      ]
    },
    {
      "cell_type": "code",
      "metadata": {
        "id": "ykibOz91_m5x",
        "outputId": "0f36db92-76ba-4835-c834-e57623d388af",
        "colab": {
          "base_uri": "https://localhost:8080/"
        }
      },
      "source": [
        "import requests\n",
        "from html.parser import HTMLParser\n",
        "\n",
        "class HeadingParser(HTMLParser):\n",
        "\n",
        "    heading = False\n",
        "    indent = 0\n",
        "\n",
        "    def handle_starttag(self, tag, attrs):\t\t\n",
        "        if tag == \"h1\":\n",
        "            self.heading = True\n",
        "            self.indent=0\n",
        "\n",
        "        elif tag == \"h2\":\n",
        "            self.heading = True\n",
        "            self.indent=1\n",
        "\n",
        "        elif tag == \"h3\":\n",
        "            self.heading = True\n",
        "            self.indent=2\n",
        "\n",
        "        elif tag == \"h4\":\n",
        "            self.heading = True\n",
        "            self.indent=3\n",
        "\n",
        "        elif tag == \"h5\":\n",
        "            self.heading = True\n",
        "            self.indent=4\n",
        "\n",
        "        elif tag == \"h6\":\n",
        "            self.heading = True\n",
        "            self.indent=5\n",
        "\n",
        "    def handle_endtag(self, tag):\n",
        "        if tag == \"h1\":\n",
        "            self.heading = False\n",
        "\n",
        "        elif tag == \"h2\":\n",
        "            self.heading = False\n",
        "\n",
        "        elif tag == \"h3\":\n",
        "            self.heading = False\n",
        "\n",
        "        elif tag == \"h4\":\n",
        "            self.heading = False\n",
        "\n",
        "        elif tag == \"h5\":\n",
        "            self.heading = False\n",
        "\n",
        "        elif tag == \"h6\":\n",
        "            self.heading = False\n",
        "\n",
        "    def handle_data(self, data):\n",
        "        if self.heading:\n",
        "            print(\"\\t\"*self.indent + data)\n",
        "\n",
        "\n",
        "url = requests.get(\"https://www.w3.org/W3C.html\")\n",
        "htmlCode = url.text\n",
        "\n",
        "hp = HeadingParser()\n",
        "hp.feed(htmlCode)"
      ],
      "execution_count": 59,
      "outputs": [
        {
          "output_type": "stream",
          "text": [
            "The World Wide Web Consortium\n",
            "\tWho are the W3C members?\n",
            "\tWho are the W3C team members?\n",
            "\tWhy should I join?\n",
            "\tActivities of the W3C\n",
            "\tWays to get involved\n"
          ],
          "name": "stdout"
        }
      ]
    },
    {
      "cell_type": "markdown",
      "metadata": {
        "id": "i0KF9cDN5OsL"
      },
      "source": [
        "##**Question 8**\n",
        "Implement recursive function webdir() that takes as input: a URL (as a string) and non-negative integers depth and indent. Your function should visit every web page reachable from the starting URL web page in depth clicks or less, and print each web page's URL. As shown below, indentation, specified by indent, should be used to indicate the depth of a URL."
      ]
    },
    {
      "cell_type": "code",
      "metadata": {
        "id": "IUbUTnUS5nqr",
        "outputId": "82e67743-7a56-456b-cf11-6d6a7bf8de3f",
        "colab": {
          "base_uri": "https://localhost:8080/"
        }
      },
      "source": [
        "import urllib.request\n",
        "from urllib.parse import urljoin\n",
        "from html.parser import HTMLParser\n",
        "\n",
        "class Collector(HTMLParser):\n",
        "    'collects hyperlink URLs into a list'\n",
        "\n",
        "    def __init__(self, url):\n",
        "        'initializes parser, the url, and a list'\n",
        "        HTMLParser.__init__(self)\n",
        "        self.url = url\n",
        "        self.links = []\n",
        "\n",
        "    def handle_starttag(self, tag, attrs):\n",
        "        'collects hyperlink URLs in their absolute format'\n",
        "        if tag == 'a':\n",
        "            for attr in attrs:\n",
        "                if attr[0] == 'href':\n",
        "                    absolute = urljoin(self.url, attr[1])\n",
        "                    if absolute[:4] == 'http':\n",
        "                        self.links.append(absolute)\n",
        "\n",
        "    def getLinks(self):\n",
        "        return self.links\n",
        "\n",
        "\n",
        "url = 'http://www.w3.org/W3C.html'\n",
        "resource = urllib.request.urlopen(url)\n",
        "content = resource.read().decode()\n",
        "collector = Collector(url)\n",
        "collector.feed(content)\n",
        "links = collector.getLinks()"
      ],
      "execution_count": 54,
      "outputs": [
        {
          "output_type": "execute_result",
          "data": {
            "text/plain": [
              "['http://www.w3.org/Consortium/Contact.html',\n",
              " 'http://www.w3.org/Consortium/Prospectus/',\n",
              " 'http://www.w3.org/Consortium/Recruitment/',\n",
              " 'http://www.w3.org/Consortium/Prospectus/ActivityList',\n",
              " 'http://www.w3.org/Talks/',\n",
              " 'http://www.w3.org/Areas.html',\n",
              " 'http://www.w3.org/Consortium/Prospectus/FAQ.html',\n",
              " 'http://www.lcs.mit.edu/',\n",
              " 'http://www.inria.fr/',\n",
              " 'http://www.lcs.mit.edu/',\n",
              " 'http://web.mit.edu/',\n",
              " 'http://www.inria.fr/',\n",
              " 'http://www.w3.org/Help/Webmaster.html']"
            ]
          },
          "metadata": {
            "tags": []
          },
          "execution_count": 54
        }
      ]
    },
    {
      "cell_type": "markdown",
      "metadata": {
        "id": "UsWXQXm5pAML"
      },
      "source": [
        "##**Question 9**\n",
        "Write SQL queries on the below database table that return:\n",
        "1. All the temperature data.\n",
        "2. All the cities, but without repetition.\n",
        "3. All the records for India.\n",
        "4. All the Fall records.\n",
        "5. The city, country, and season for which the average rainfall is between 200 and 400 millimeters.\n",
        "6. The city and country for which the average Fall temperature is above 20\n",
        "degrees, in increasing temperature order.\n",
        "7. The total annual rainfall for Cairo.\n",
        "8. The total rainfall for each season"
      ]
    },
    {
      "cell_type": "code",
      "metadata": {
        "id": "Xv2oenpwpGV3",
        "outputId": "1480011e-0d0a-409b-f57d-4eb3dd7d25e5",
        "colab": {
          "base_uri": "https://localhost:8080/"
        }
      },
      "source": [
        "import sqlite3\n",
        "\n",
        "# CREATE DATABASE\n",
        "con = sqlite3.connect('weather.db')\n",
        "cur = con.cursor()\n",
        "cur.execute(\"CREATE TABLE weather (City text, Country text, Season text, Temperature real, Rainfall real)\")"
      ],
      "execution_count": 37,
      "outputs": [
        {
          "output_type": "execute_result",
          "data": {
            "text/plain": [
              "<sqlite3.Cursor at 0x7ff4edd5db90>"
            ]
          },
          "metadata": {
            "tags": []
          },
          "execution_count": 37
        }
      ]
    },
    {
      "cell_type": "code",
      "metadata": {
        "id": "_vHDptYJsseE"
      },
      "source": [
        "# INSERT DATA\n",
        "data = [('Mumbai', 'India', 'Winter', 24.8, 5.9),\n",
        "        ('Mumbai', 'India', 'Spring', 28.4, 16.2),\n",
        "        ('Mumbai', 'India', 'Summer', 27.9, 1549.4),\n",
        "        ('Mumbai', 'India', 'Fall', 27.6, 346.0),\n",
        "        ('London', 'United Kingdom', 'Winter', 4.2, 207.7),\n",
        "        ('London', 'United Kingdom', 'Spring', 8.3, 169.6),\n",
        "        ('London', 'United Kingdom', 'Summer', 15.7, 157.0),\n",
        "        ('London', 'United Kingdom', 'Fall', 10.4, 218.5),\n",
        "        ('Cairo', 'Egypt', 'Winter', 13.6, 16.5),\n",
        "        ('Cairo', 'Egypt', 'Spring', 20.7, 6.5),\n",
        "        ('Cairo', 'Egypt', 'Summer', 27.7, 0.1),\n",
        "        ('Cairo', 'Egypt', 'Fall', 22.2, 4.5)]\n",
        "for i in data:\n",
        "    cur.execute(\"INSERT INTO weather VALUES (?, ?, ?, ?, ?)\", i)"
      ],
      "execution_count": 38,
      "outputs": []
    },
    {
      "cell_type": "code",
      "metadata": {
        "id": "QlZ4ZmXVs0zz",
        "outputId": "9c787458-0810-40b6-8e39-442d2c13a87e",
        "colab": {
          "base_uri": "https://localhost:8080/",
          "height": 221
        }
      },
      "source": [
        "# a)\n",
        "cur.execute(\"SELECT Temperature FROM weather\")\n",
        "cur.fetchall()"
      ],
      "execution_count": null,
      "outputs": [
        {
          "output_type": "execute_result",
          "data": {
            "text/plain": [
              "[(24.8,),\n",
              " (28.4,),\n",
              " (27.9,),\n",
              " (27.6,),\n",
              " (4.2,),\n",
              " (8.3,),\n",
              " (15.7,),\n",
              " (10.4,),\n",
              " (13.6,),\n",
              " (20.7,),\n",
              " (27.7,),\n",
              " (22.2,)]"
            ]
          },
          "metadata": {
            "tags": []
          },
          "execution_count": 25
        }
      ]
    },
    {
      "cell_type": "code",
      "metadata": {
        "id": "nvt-39JTuH1t",
        "outputId": "246c893c-8e8b-4d90-85de-e9634c6c1900",
        "colab": {
          "base_uri": "https://localhost:8080/",
          "height": 34
        }
      },
      "source": [
        "# b)\n",
        "cur.execute(\"SELECT DISTINCT City FROM Weather\")\n",
        "cur.fetchall()"
      ],
      "execution_count": null,
      "outputs": [
        {
          "output_type": "execute_result",
          "data": {
            "text/plain": [
              "[('Mumbai',), ('London',), ('Cairo',)]"
            ]
          },
          "metadata": {
            "tags": []
          },
          "execution_count": 26
        }
      ]
    },
    {
      "cell_type": "code",
      "metadata": {
        "id": "9NCotpNQwdHf",
        "outputId": "53b794a5-7f8d-48b1-9ae6-facd07788c25",
        "colab": {
          "base_uri": "https://localhost:8080/",
          "height": 85
        }
      },
      "source": [
        "# c)\n",
        "cur.execute(\"SELECT * FROM Weather WHERE Country='India'\")\n",
        "cur.fetchall()"
      ],
      "execution_count": null,
      "outputs": [
        {
          "output_type": "execute_result",
          "data": {
            "text/plain": [
              "[('Mumbai', 'India', 'Winter', 24.8, 5.9),\n",
              " ('Mumbai', 'India', 'Spring', 28.4, 16.2),\n",
              " ('Mumbai', 'India', 'Summer', 27.9, 1549.4),\n",
              " ('Mumbai', 'India', 'Fall', 27.6, 346.0)]"
            ]
          },
          "metadata": {
            "tags": []
          },
          "execution_count": 27
        }
      ]
    },
    {
      "cell_type": "code",
      "metadata": {
        "id": "Zo5NodfAwdsq",
        "outputId": "e1de4a26-0bf3-4d53-aeee-d4b297900a04",
        "colab": {
          "base_uri": "https://localhost:8080/",
          "height": 68
        }
      },
      "source": [
        "# d)\n",
        "cur.execute(\"SELECT * FROM Weather WHERE Season='Fall'\")\n",
        "cur.fetchall()"
      ],
      "execution_count": null,
      "outputs": [
        {
          "output_type": "execute_result",
          "data": {
            "text/plain": [
              "[('Mumbai', 'India', 'Fall', 27.6, 346.0),\n",
              " ('London', 'United Kingdom', 'Fall', 10.4, 218.5),\n",
              " ('Cairo', 'Egypt', 'Fall', 22.2, 4.5)]"
            ]
          },
          "metadata": {
            "tags": []
          },
          "execution_count": 28
        }
      ]
    },
    {
      "cell_type": "code",
      "metadata": {
        "id": "VLvdFBFxwd58",
        "outputId": "8f2f92bb-cde5-4e18-8a1b-4529b1ccd4e1",
        "colab": {
          "base_uri": "https://localhost:8080/",
          "height": 68
        }
      },
      "source": [
        "# e)\n",
        "cur.execute(\"SELECT City, Country, Season FROM Weather WHERE Rainfall BETWEEN 200 AND 400\")\n",
        "cur.fetchall()"
      ],
      "execution_count": null,
      "outputs": [
        {
          "output_type": "execute_result",
          "data": {
            "text/plain": [
              "[('Mumbai', 'India', 'Fall'),\n",
              " ('London', 'United Kingdom', 'Winter'),\n",
              " ('London', 'United Kingdom', 'Fall')]"
            ]
          },
          "metadata": {
            "tags": []
          },
          "execution_count": 29
        }
      ]
    },
    {
      "cell_type": "code",
      "metadata": {
        "id": "vdEiRgW-wdWX",
        "outputId": "463cfc5d-8e21-4127-d41a-6b31c6d193aa",
        "colab": {
          "base_uri": "https://localhost:8080/",
          "height": 34
        }
      },
      "source": [
        "# f)\n",
        "cur.execute(\"SELECT City, Country FROM Weather WHERE Season='Fall' AND Temperature>20 ORDER BY Temperature\")\n",
        "cur.fetchall()"
      ],
      "execution_count": null,
      "outputs": [
        {
          "output_type": "execute_result",
          "data": {
            "text/plain": [
              "[('Cairo', 'Egypt'), ('Mumbai', 'India')]"
            ]
          },
          "metadata": {
            "tags": []
          },
          "execution_count": 30
        }
      ]
    },
    {
      "cell_type": "code",
      "metadata": {
        "id": "h1oqmaSVwWV9",
        "outputId": "48b40a74-90bb-4087-d515-7683d9c68a29",
        "colab": {
          "base_uri": "https://localhost:8080/",
          "height": 34
        }
      },
      "source": [
        "# g)\n",
        "cur.execute(\"SELECT SUM(Rainfall) from Weather WHERE City='Cairo'\")\n",
        "cur.fetchall()"
      ],
      "execution_count": null,
      "outputs": [
        {
          "output_type": "execute_result",
          "data": {
            "text/plain": [
              "[(27.6,)]"
            ]
          },
          "metadata": {
            "tags": []
          },
          "execution_count": 32
        }
      ]
    },
    {
      "cell_type": "code",
      "metadata": {
        "id": "8m5Tj9eHwQsw",
        "outputId": "343bccd2-c5df-4561-eb0c-94eb8663ab65",
        "colab": {
          "base_uri": "https://localhost:8080/",
          "height": 85
        }
      },
      "source": [
        "# h)\n",
        "cur.execute(\"SELECT DISTINCT Season, SUM(Rainfall) FROM Weather GROUP BY Season\")\n",
        "cur.fetchall()"
      ],
      "execution_count": null,
      "outputs": [
        {
          "output_type": "execute_result",
          "data": {
            "text/plain": [
              "[('Fall', 569.0),\n",
              " ('Spring', 192.29999999999998),\n",
              " ('Summer', 1706.5),\n",
              " ('Winter', 230.1)]"
            ]
          },
          "metadata": {
            "tags": []
          },
          "execution_count": 34
        }
      ]
    },
    {
      "cell_type": "markdown",
      "metadata": {
        "id": "DjieQ7lhxWj6"
      },
      "source": [
        "##**Question 10**\n",
        "Write list comprehension expressions"
      ]
    },
    {
      "cell_type": "code",
      "metadata": {
        "id": "C4y-tf0W0u6A"
      },
      "source": [
        "words = ['The', 'quick', 'brown', 'fox', 'jumps', 'over', 'the', 'lazy', 'dog']"
      ],
      "execution_count": null,
      "outputs": []
    },
    {
      "cell_type": "code",
      "metadata": {
        "id": "wvXE2luY07RQ",
        "outputId": "f72ccadc-4048-4063-b7ce-17c9de63f71c",
        "colab": {
          "base_uri": "https://localhost:8080/",
          "height": 34
        }
      },
      "source": [
        "# a)\n",
        "[i.upper() for i in words]"
      ],
      "execution_count": null,
      "outputs": [
        {
          "output_type": "execute_result",
          "data": {
            "text/plain": [
              "['THE', 'QUICK', 'BROWN', 'FOX', 'JUMPS', 'OVER', 'THE', 'LAZY', 'DOG']"
            ]
          },
          "metadata": {
            "tags": []
          },
          "execution_count": 40
        }
      ]
    },
    {
      "cell_type": "code",
      "metadata": {
        "id": "HWpbVsFQ1OdE",
        "outputId": "6401ac22-15a9-48c8-f947-2dc85f135e16",
        "colab": {
          "base_uri": "https://localhost:8080/",
          "height": 34
        }
      },
      "source": [
        "# b)\n",
        "[i.lower() for i in words]"
      ],
      "execution_count": null,
      "outputs": [
        {
          "output_type": "execute_result",
          "data": {
            "text/plain": [
              "['the', 'quick', 'brown', 'fox', 'jumps', 'over', 'the', 'lazy', 'dog']"
            ]
          },
          "metadata": {
            "tags": []
          },
          "execution_count": 42
        }
      ]
    },
    {
      "cell_type": "code",
      "metadata": {
        "id": "65yueyRV1Y9T",
        "outputId": "a1001803-ece9-44b0-d0d3-02fd27bd6768",
        "colab": {
          "base_uri": "https://localhost:8080/",
          "height": 34
        }
      },
      "source": [
        "# c)\n",
        "[len(i) for i in words]"
      ],
      "execution_count": null,
      "outputs": [
        {
          "output_type": "execute_result",
          "data": {
            "text/plain": [
              "[3, 5, 5, 3, 5, 4, 3, 4, 3]"
            ]
          },
          "metadata": {
            "tags": []
          },
          "execution_count": 43
        }
      ]
    },
    {
      "cell_type": "code",
      "metadata": {
        "id": "Civ7fZjW1dui",
        "outputId": "8bbb2f96-93eb-49f4-9d48-4e207782613f",
        "colab": {
          "base_uri": "https://localhost:8080/",
          "height": 170
        }
      },
      "source": [
        "# d)\n",
        "[[i.upper(), i.lower(), len(i)] for i in words]"
      ],
      "execution_count": null,
      "outputs": [
        {
          "output_type": "execute_result",
          "data": {
            "text/plain": [
              "[['THE', 'the', 3],\n",
              " ['QUICK', 'quick', 5],\n",
              " ['BROWN', 'brown', 5],\n",
              " ['FOX', 'fox', 3],\n",
              " ['JUMPS', 'jumps', 5],\n",
              " ['OVER', 'over', 4],\n",
              " ['THE', 'the', 3],\n",
              " ['LAZY', 'lazy', 4],\n",
              " ['DOG', 'dog', 3]]"
            ]
          },
          "metadata": {
            "tags": []
          },
          "execution_count": 44
        }
      ]
    },
    {
      "cell_type": "code",
      "metadata": {
        "id": "KJQUSwpJ1nfO",
        "outputId": "7da34f9e-63f1-460f-d9c5-dc31fdc18be3",
        "colab": {
          "base_uri": "https://localhost:8080/",
          "height": 34
        }
      },
      "source": [
        "# e)\n",
        "[i for i in words if len(i)>=4]"
      ],
      "execution_count": null,
      "outputs": [
        {
          "output_type": "execute_result",
          "data": {
            "text/plain": [
              "['quick', 'brown', 'jumps', 'over', 'lazy']"
            ]
          },
          "metadata": {
            "tags": []
          },
          "execution_count": 45
        }
      ]
    }
  ]
}

