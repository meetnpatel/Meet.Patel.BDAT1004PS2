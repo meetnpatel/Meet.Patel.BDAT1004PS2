{
  "nbformat": 4,
  "nbformat_minor": 0,
  "metadata": {
    "colab": {
      "name": "Problem Set 2.ipynb",
      "provenance": [],
      "collapsed_sections": [
        "L2eVpec_Mafx",
        "EJUzgHk1MPKH",
        "8DYdHp5ClCan",
        "xcXEBGYfqt9L",
        "UsWXQXm5pAML",
        "DjieQ7lhxWj6"
      ]
    },
    "kernelspec": {
      "name": "python3",
      "display_name": "Python 3"
    }
  },
  "cells": [
    {
      "cell_type": "markdown",
      "metadata": {
        "id": "9L2jBOcY5d2A"
      },
      "source": [
        "#**Problem Set 2**"
      ]
    },
    {
      "cell_type": "markdown",
      "metadata": {
        "id": "L2eVpec_Mafx"
      },
      "source": [
        "##**Question 1**\n",
        "Consider the following Python module:"
      ]
    },
    {
      "cell_type": "code",
      "metadata": {
        "id": "4wbePRBUOTDm"
      },
      "source": [
        "a = 0\n",
        "\n",
        "def b():\n",
        "    global a\n",
        "    a = c(a)\n",
        "\n",
        "def c(a):\n",
        "    return a + 2"
      ],
      "execution_count": null,
      "outputs": []
    },
    {
      "cell_type": "markdown",
      "metadata": {
        "id": "7LbeN8CZkCKF"
      },
      "source": [
        "After importing the module into the interpreter, you execute:\n",
        "    \n",
        "    >>> b()\n",
        "    >>> b()\n",
        "    >>> b()\n",
        "    >>> a\n",
        "\n",
        "What value is displayed when the last expression (a) is evaluated? Explain your answer by indicating what happens in every executed statement."
      ]
    },
    {
      "cell_type": "code",
      "metadata": {
        "id": "kk21TEzLNZgn",
        "outputId": "5442a4f9-f2c0-4723-b862-fa35d27d7e31",
        "colab": {
          "base_uri": "https://localhost:8080/",
          "height": 68
        }
      },
      "source": [
        "# Answer\n",
        "b()\n",
        "print(a)\n",
        "b()\n",
        "print(a)\n",
        "b()\n",
        "print(a)"
      ],
      "execution_count": null,
      "outputs": [
        {
          "output_type": "stream",
          "text": [
            "2\n",
            "4\n",
            "6\n"
          ],
          "name": "stdout"
        }
      ]
    },
    {
      "cell_type": "markdown",
      "metadata": {
        "id": "3UueIvzmLal_"
      },
      "source": [
        "It displays 6. The variable a is defined as global in function b(), this changes its scope from local to global, therefore the change/definition in the function persists for rest of the code, even after function execution. Due to that in each execution of b(), 2 is added to the variable value. b() is executed 3 times resulting in value 6 (2+2+2) of variable a."
      ]
    },
    {
      "cell_type": "markdown",
      "metadata": {
        "id": "EJUzgHk1MPKH"
      },
      "source": [
        "##**Question 2**"
      ]
    },
    {
      "cell_type": "code",
      "metadata": {
        "id": "fVOOSYJ7LK1C",
        "outputId": "fb599a1c-13ed-42a4-a307-3cc30587edf7",
        "colab": {
          "base_uri": "https://localhost:8080/",
          "height": 68
        }
      },
      "source": [
        "def file_length(file_name):\n",
        "    try:\n",
        "        file = open(file_name)\n",
        "        contents = file.read()\n",
        "    except FileNotFoundError:                       # Handle Error if File not found\n",
        "        print(\"File '\"+ file_name +\"' not found!\")\n",
        "        return\n",
        "    except UnicodeDecodeError:                      # Handle Error if file not readable\n",
        "        print(\"File '\"+ file_name +\"' can't be read. Please open a text file!\")\n",
        "        return\n",
        "    \n",
        "    file.close()\n",
        "    print(len(contents))\n",
        "\n",
        "file_length(\"unknown_file.txt\")                     # Non-existing file\n",
        "file_length(\"Smoke Signals intro.mp3\")              # Existing File but mp3\n",
        "file_length(\"NPTEL.txt\")                            # Existing txt file"
      ],
      "execution_count": null,
      "outputs": [
        {
          "output_type": "stream",
          "text": [
            "File 'unknown_file.txt' not found!\n",
            "File 'Smoke Signals intro.mp3' can't be read. Please open a text file!\n",
            "384\n"
          ],
          "name": "stdout"
        }
      ]
    },
    {
      "cell_type": "markdown",
      "metadata": {
        "id": "aq8ETx3wN-kB"
      },
      "source": [
        "##**Question 3**\n",
        "Write a class named Marsupial as per the question."
      ]
    },
    {
      "cell_type": "code",
      "metadata": {
        "id": "EimJxzQHOAvo"
      },
      "source": [
        "class Marsupial():\n",
        "\n",
        "    def __init__(self):\n",
        "        self.pouch = []\n",
        "        self.item = \"\"\n",
        "    \n",
        "    def put_in_pouch(self, item):\n",
        "        self.pouch.append(item)\n",
        "\n",
        "    def pouch_contents(self):\n",
        "        print(self.pouch)"
      ],
      "execution_count": 1,
      "outputs": []
    },
    {
      "cell_type": "code",
      "metadata": {
        "id": "c5ksPMTWPA5Z",
        "outputId": "f91bbf7c-fec3-46b7-cfcf-2da67c6d9905",
        "colab": {
          "base_uri": "https://localhost:8080/"
        }
      },
      "source": [
        "m = Marsupial()\n",
        "m.put_in_pouch(\"Sword\")\n",
        "m.put_in_pouch(\"Magic Orb\")\n",
        "m.put_in_pouch(\"Healing Potion\")\n",
        "m.pouch_contents()"
      ],
      "execution_count": 2,
      "outputs": [
        {
          "output_type": "stream",
          "text": [
            "['Sword', 'Magic Orb', 'Healing Potion']\n"
          ],
          "name": "stdout"
        }
      ]
    },
    {
      "cell_type": "code",
      "metadata": {
        "id": "akR0AaNtRRxf"
      },
      "source": [
        "class Kangaroo(Marsupial):\n",
        "\n",
        "    def __init__(self, x, y):\n",
        "        Marsupial.__init__(self)\n",
        "        self.x = x\n",
        "        self.y = y\n",
        "\n",
        "    def jump(self, dx, dy):\n",
        "        self.x += dx\n",
        "        self.y += dy\n",
        "\n",
        "    def __str__(self):\n",
        "        return \"I am a Kangaroo located at coordinates (\"+ str(self.x) +\",\"+ str(self.y) +\")\""
      ],
      "execution_count": 16,
      "outputs": []
    },
    {
      "cell_type": "code",
      "metadata": {
        "id": "OU6oYbGHcwQd",
        "outputId": "d1c27676-2359-490d-bd7f-b854476ab19c",
        "colab": {
          "base_uri": "https://localhost:8080/"
        }
      },
      "source": [
        "k = Kangaroo(0,0)\n",
        "k.put_in_pouch(\"Dagger\")\n",
        "k.put_in_pouch(\"Black Magic Orb\")\n",
        "k.put_in_pouch(\"Fire Potion\")\n",
        "k.pouch_contents()\n",
        "\n",
        "k.jump(1,0)\n",
        "k.jump(1,1)\n",
        "k.jump(2,3)\n",
        "print(k)"
      ],
      "execution_count": 17,
      "outputs": [
        {
          "output_type": "stream",
          "text": [
            "['Dagger', 'Black Magic Orb', 'Fire Potion']\n",
            "I am a Kangaroo located at coordinates (4,4)\n"
          ],
          "name": "stdout"
        }
      ]
    },
    {
      "cell_type": "markdown",
      "metadata": {
        "id": "t-EqtZzGkkEU"
      },
      "source": [
        "##**Question 4**\n",
        "Implement a new GUI class App that combines user-defined tkinter widget classes\n",
        "Calculator and Mortgage displayed below: (This question can be done using a\n",
        ".py file)"
      ]
    },
    {
      "cell_type": "markdown",
      "metadata": {
        "id": "_IGI00ra48hM"
      },
      "source": [
        ""
      ]
    },
    {
      "cell_type": "markdown",
      "metadata": {
        "id": "8DYdHp5ClCan"
      },
      "source": [
        "##**Question 5**\n",
        "Write function collatz() that takes a positive integer x as input and prints the\n",
        "Collatz sequence starting at x. A Collatz sequence is obtained by repeatedly applying\n",
        "this rule to the previous number x in the sequence:\n",
        "\n",
        "    x = {  𝑥/2 𝑖𝑓 𝑥 𝑖𝑠 𝑒𝑣𝑒𝑛\n",
        "           3𝑥 + 1 𝑖𝑓 𝑥 𝑖𝑠 𝑜𝑑d\n",
        "Your function should stop when the sequence gets to number 1. Your\n",
        "implementation must be recursive, without any loops."
      ]
    },
    {
      "cell_type": "code",
      "metadata": {
        "id": "isqxB96jmLhx",
        "outputId": "f624d357-1144-4566-d58f-577470ff965b",
        "colab": {
          "base_uri": "https://localhost:8080/",
          "height": 119
        }
      },
      "source": [
        "def collatz(n):\n",
        "    if n == 1:            # if number 1\n",
        "        print(n)\n",
        "        return\n",
        "    elif n % 2 == 0:      # if number even\n",
        "        print(n)\n",
        "        n //= 2\n",
        "    else:                 # if number odd\n",
        "        print(n)\n",
        "        n = 3 * n + 1\n",
        "    collatz(n)\n",
        "\n",
        "collatz(5)"
      ],
      "execution_count": null,
      "outputs": [
        {
          "output_type": "stream",
          "text": [
            "5\n",
            "16\n",
            "8\n",
            "4\n",
            "2\n",
            "1\n"
          ],
          "name": "stdout"
        }
      ]
    },
    {
      "cell_type": "markdown",
      "metadata": {
        "id": "xcXEBGYfqt9L"
      },
      "source": [
        "##**Question 6**\n",
        "Write a recursive method binary() that takes a non-negative integer n and prints the binary representation of integer n."
      ]
    },
    {
      "cell_type": "code",
      "metadata": {
        "id": "HpsstK7ArFjV",
        "outputId": "e613be98-d04a-4f86-cbd0-40b158e3de25",
        "colab": {
          "base_uri": "https://localhost:8080/",
          "height": 34
        }
      },
      "source": [
        "def binary(num):\n",
        "    if num == 0:\n",
        "        return 0\n",
        "    else: \n",
        "        return (num % 2 + 10 * binary(num // 2))    # Formula to convert decimal to binary in sequence\n",
        "\n",
        "binary(10)"
      ],
      "execution_count": null,
      "outputs": [
        {
          "output_type": "execute_result",
          "data": {
            "text/plain": [
              "1010"
            ]
          },
          "metadata": {
            "tags": []
          },
          "execution_count": 50
        }
      ]
    },
    {
      "cell_type": "markdown",
      "metadata": {
        "id": "T3_A8g7Q_g-Q"
      },
      "source": [
        "##**Question 7**\n",
        "Implement a class named headingParser that can be used to parse an HTML document, and retrieve and print all the headings in the document. You should implement your class as a subclass of HTMLParser, defined in Standard Library module html.parser. When fed a string containing HTML code, your class should print the headings, one per line and in the order in which they appear in the document. Each heading should be indented as follows: an h1 heading should have indentation 0, and h2 heading should have indentation 1, etc. Test your implementation using w3c.html.\n"
      ]
    },
    {
      "cell_type": "code",
      "metadata": {
        "id": "ykibOz91_m5x",
        "outputId": "56bd4920-f41f-4c96-e45b-b11241c5c538",
        "colab": {
          "base_uri": "https://localhost:8080/"
        }
      },
      "source": [
        "import requests\n",
        "from html.parser import HTMLParser\n",
        "\n",
        "class HeadingParser(HTMLParser):\n",
        "\n",
        "    heading = False\n",
        "    indent = 0\n",
        "\n",
        "    def handle_starttag(self, tag, attrs):\t\t\n",
        "        if tag == \"h1\":\n",
        "            self.heading = True\n",
        "            self.indent=0\n",
        "\n",
        "        elif tag == \"h2\":\n",
        "            self.heading = True\n",
        "            self.indent=1\n",
        "\n",
        "        elif tag == \"h3\":\n",
        "            self.heading = True\n",
        "            self.indent=2\n",
        "\n",
        "        elif tag == \"h4\":\n",
        "            self.heading = True\n",
        "            self.indent=3\n",
        "\n",
        "        elif tag == \"h5\":\n",
        "            self.heading = True\n",
        "            self.indent=4\n",
        "\n",
        "        elif tag == \"h6\":\n",
        "            self.heading = True\n",
        "            self.indent=5\n",
        "\n",
        "    def handle_data(self, data):\t\t\t\n",
        "        if self.heading:\n",
        "            print(\"\\t\"*self.indent + data)\n",
        "\n",
        "\n",
        "url = requests.get(\"https://www.w3.org/W3C.html\")\n",
        "htmlCode = url.text\n",
        "\n",
        "hp = HeadingParser()\n",
        "hp.feed(htmlCode)"
      ],
      "execution_count": 39,
      "outputs": [
        {
          "output_type": "stream",
          "text": [
            "The World Wide Web Consortium\n",
            "\n",
            "\n",
            "\n",
            " The World Wide Web is the universe of network-accessible\n",
            "information.  The World Wide Web Consortium exists to realize the full\n",
            "potential of the Web.\n",
            "\n",
            "\n",
            " W3C works with the global community to produce specifications and\n",
            "reference code.  W3C is funded by its members but its information and\n",
            "products are freely available to all.\n",
            "\n",
            "\n",
            "\n",
            "\n",
            " More mission\n",
            "\n",
            " How W3C is positioned with respect to major players\n",
            " \n",
            "\n",
            "\n",
            " Commercial (Netscape, Microsoft)\n",
            "\n",
            " IETF and internet standards\n",
            "\n",
            " CommerceNet - JEPI\n",
            " \n",
            "\n",
            "\n",
            "\n",
            "\n",
            "\n",
            "\tWho are the W3C members?\n",
            "\t\n",
            "\n",
            "\n",
            "\tWho are the W3C team members?\n",
            "\t\n",
            "\n",
            "\t\n",
            "\n",
            "\t \n",
            "\tHow to contact W3C\n",
            "\t\n",
            "\n",
            "\t\n",
            "\n",
            "\n",
            "\tWhy should I join?\n",
            "\t\n",
            "\n",
            "\n",
            "\t Membership in the W3C is open to any organization which signs a\n",
            "membership agreement.  The \n",
            "\tprospectus\n",
            "\t explains the consortium\n",
            "to potential members.\n",
            "\n",
            "\n",
            "\t\n",
            "\n",
            "\t \n",
            "\tOpenings: come and work with the W3 team at MIT or INRIA\n",
            "\t\n",
            "\n",
            "\t\n",
            "\n",
            "\n",
            "\tActivities of the W3C\n",
            "\t\n",
            "\n",
            "\t\n",
            "\n",
            "\t \n",
            "\tW3C Activity areas and\n",
            "directions\n",
            "\t\n",
            "\n",
            "\t\n",
            "\n",
            "\n",
            "\n",
            "\t \n",
            "\tTalks\n",
            "\t\n",
            "\n",
            "\t Members of the W3C team often give talks and presentations.  In\n",
            "most cases, you can find information and presentations on this web\n",
            "site contained within the appropriate \n",
            "\tsubject\n",
            "or activity area\n",
            "\t.  This is a collection of slides and\n",
            "presentations from the past several years.\n",
            "\n",
            "\n",
            "\tWays to get involved\n",
            "\t\n",
            "\n",
            "\t\n",
            "\n",
            "\t Mailing lists\n",
            "\n",
            "\t Workshops\n",
            "\n",
            "\t How to contact the team about issues\n",
            "\n",
            "\t\n",
            "\n",
            "\n",
            "\t \n",
            "\t\n",
            " Frequently Asked Questions about W3C\n",
            "\t\n",
            "\n",
            "\n",
            "\t\n",
            "\n",
            "\t\n",
            "\n",
            "\t\n",
            " \n",
            "\t\n",
            "\n",
            "\t\n",
            " \n",
            "\t\n",
            "\n",
            "\n",
            "\tW3C is hosted by the\n",
            "\n",
            "\tLaboratory for Computer Science\n",
            "\t at\n",
            "\n",
            "\tMIT\n",
            "\t, and\n",
            "in Europe by \n",
            "\tINRIA\n",
            "\t.\n",
            "\n",
            "\n",
            "\t\n",
            "\n",
            "\tWebmaster\n",
            "\t\n",
            "\n",
            "\n",
            "\t\n",
            "\n",
            "\t\n",
            "\n",
            "\n",
            "\n",
            "\n",
            "\n",
            "\n",
            "\n",
            "\n"
          ],
          "name": "stdout"
        }
      ]
    },
    {
      "cell_type": "markdown",
      "metadata": {
        "id": "i0KF9cDN5OsL"
      },
      "source": [
        "##**Question 8**\n",
        "Implement recursive function webdir() that takes as input: a URL (as a string) and non-negative integers depth and indent. Your function should visit every web page reachable from the starting URL web page in depth clicks or less, and print each web page's URL. As shown below, indentation, specified by indent, should be used to indicate the depth of a URL."
      ]
    },
    {
      "cell_type": "code",
      "metadata": {
        "id": "IUbUTnUS5nqr"
      },
      "source": [
        ""
      ],
      "execution_count": null,
      "outputs": []
    },
    {
      "cell_type": "markdown",
      "metadata": {
        "id": "UsWXQXm5pAML"
      },
      "source": [
        "##**Question 9**\n",
        "Write SQL queries on the below database table that return:\n",
        "1. All the temperature data.\n",
        "2. All the cities, but without repetition.\n",
        "3. All the records for India.\n",
        "4. All the Fall records.\n",
        "5. The city, country, and season for which the average rainfall is between 200 and 400 millimeters.\n",
        "6. The city and country for which the average Fall temperature is above 20\n",
        "degrees, in increasing temperature order.\n",
        "7. The total annual rainfall for Cairo.\n",
        "8. The total rainfall for each season"
      ]
    },
    {
      "cell_type": "code",
      "metadata": {
        "id": "Xv2oenpwpGV3",
        "outputId": "1480011e-0d0a-409b-f57d-4eb3dd7d25e5",
        "colab": {
          "base_uri": "https://localhost:8080/"
        }
      },
      "source": [
        "import sqlite3\n",
        "\n",
        "# CREATE DATABASE\n",
        "con = sqlite3.connect('weather.db')\n",
        "cur = con.cursor()\n",
        "cur.execute(\"CREATE TABLE weather (City text, Country text, Season text, Temperature real, Rainfall real)\")"
      ],
      "execution_count": 37,
      "outputs": [
        {
          "output_type": "execute_result",
          "data": {
            "text/plain": [
              "<sqlite3.Cursor at 0x7ff4edd5db90>"
            ]
          },
          "metadata": {
            "tags": []
          },
          "execution_count": 37
        }
      ]
    },
    {
      "cell_type": "code",
      "metadata": {
        "id": "_vHDptYJsseE"
      },
      "source": [
        "# INSERT DATA\n",
        "data = [('Mumbai', 'India', 'Winter', 24.8, 5.9),\n",
        "        ('Mumbai', 'India', 'Spring', 28.4, 16.2),\n",
        "        ('Mumbai', 'India', 'Summer', 27.9, 1549.4),\n",
        "        ('Mumbai', 'India', 'Fall', 27.6, 346.0),\n",
        "        ('London', 'United Kingdom', 'Winter', 4.2, 207.7),\n",
        "        ('London', 'United Kingdom', 'Spring', 8.3, 169.6),\n",
        "        ('London', 'United Kingdom', 'Summer', 15.7, 157.0),\n",
        "        ('London', 'United Kingdom', 'Fall', 10.4, 218.5),\n",
        "        ('Cairo', 'Egypt', 'Winter', 13.6, 16.5),\n",
        "        ('Cairo', 'Egypt', 'Spring', 20.7, 6.5),\n",
        "        ('Cairo', 'Egypt', 'Summer', 27.7, 0.1),\n",
        "        ('Cairo', 'Egypt', 'Fall', 22.2, 4.5)]\n",
        "for i in data:\n",
        "    cur.execute(\"INSERT INTO weather VALUES (?, ?, ?, ?, ?)\", i)"
      ],
      "execution_count": 38,
      "outputs": []
    },
    {
      "cell_type": "code",
      "metadata": {
        "id": "QlZ4ZmXVs0zz",
        "outputId": "9c787458-0810-40b6-8e39-442d2c13a87e",
        "colab": {
          "base_uri": "https://localhost:8080/",
          "height": 221
        }
      },
      "source": [
        "# a)\n",
        "cur.execute(\"SELECT Temperature FROM weather\")\n",
        "cur.fetchall()"
      ],
      "execution_count": null,
      "outputs": [
        {
          "output_type": "execute_result",
          "data": {
            "text/plain": [
              "[(24.8,),\n",
              " (28.4,),\n",
              " (27.9,),\n",
              " (27.6,),\n",
              " (4.2,),\n",
              " (8.3,),\n",
              " (15.7,),\n",
              " (10.4,),\n",
              " (13.6,),\n",
              " (20.7,),\n",
              " (27.7,),\n",
              " (22.2,)]"
            ]
          },
          "metadata": {
            "tags": []
          },
          "execution_count": 25
        }
      ]
    },
    {
      "cell_type": "code",
      "metadata": {
        "id": "nvt-39JTuH1t",
        "outputId": "246c893c-8e8b-4d90-85de-e9634c6c1900",
        "colab": {
          "base_uri": "https://localhost:8080/",
          "height": 34
        }
      },
      "source": [
        "# b)\n",
        "cur.execute(\"SELECT DISTINCT City FROM Weather\")\n",
        "cur.fetchall()"
      ],
      "execution_count": null,
      "outputs": [
        {
          "output_type": "execute_result",
          "data": {
            "text/plain": [
              "[('Mumbai',), ('London',), ('Cairo',)]"
            ]
          },
          "metadata": {
            "tags": []
          },
          "execution_count": 26
        }
      ]
    },
    {
      "cell_type": "code",
      "metadata": {
        "id": "9NCotpNQwdHf",
        "outputId": "53b794a5-7f8d-48b1-9ae6-facd07788c25",
        "colab": {
          "base_uri": "https://localhost:8080/",
          "height": 85
        }
      },
      "source": [
        "# c)\n",
        "cur.execute(\"SELECT * FROM Weather WHERE Country='India'\")\n",
        "cur.fetchall()"
      ],
      "execution_count": null,
      "outputs": [
        {
          "output_type": "execute_result",
          "data": {
            "text/plain": [
              "[('Mumbai', 'India', 'Winter', 24.8, 5.9),\n",
              " ('Mumbai', 'India', 'Spring', 28.4, 16.2),\n",
              " ('Mumbai', 'India', 'Summer', 27.9, 1549.4),\n",
              " ('Mumbai', 'India', 'Fall', 27.6, 346.0)]"
            ]
          },
          "metadata": {
            "tags": []
          },
          "execution_count": 27
        }
      ]
    },
    {
      "cell_type": "code",
      "metadata": {
        "id": "Zo5NodfAwdsq",
        "outputId": "e1de4a26-0bf3-4d53-aeee-d4b297900a04",
        "colab": {
          "base_uri": "https://localhost:8080/",
          "height": 68
        }
      },
      "source": [
        "# d)\n",
        "cur.execute(\"SELECT * FROM Weather WHERE Season='Fall'\")\n",
        "cur.fetchall()"
      ],
      "execution_count": null,
      "outputs": [
        {
          "output_type": "execute_result",
          "data": {
            "text/plain": [
              "[('Mumbai', 'India', 'Fall', 27.6, 346.0),\n",
              " ('London', 'United Kingdom', 'Fall', 10.4, 218.5),\n",
              " ('Cairo', 'Egypt', 'Fall', 22.2, 4.5)]"
            ]
          },
          "metadata": {
            "tags": []
          },
          "execution_count": 28
        }
      ]
    },
    {
      "cell_type": "code",
      "metadata": {
        "id": "VLvdFBFxwd58",
        "outputId": "8f2f92bb-cde5-4e18-8a1b-4529b1ccd4e1",
        "colab": {
          "base_uri": "https://localhost:8080/",
          "height": 68
        }
      },
      "source": [
        "# e)\n",
        "cur.execute(\"SELECT City, Country, Season FROM Weather WHERE Rainfall BETWEEN 200 AND 400\")\n",
        "cur.fetchall()"
      ],
      "execution_count": null,
      "outputs": [
        {
          "output_type": "execute_result",
          "data": {
            "text/plain": [
              "[('Mumbai', 'India', 'Fall'),\n",
              " ('London', 'United Kingdom', 'Winter'),\n",
              " ('London', 'United Kingdom', 'Fall')]"
            ]
          },
          "metadata": {
            "tags": []
          },
          "execution_count": 29
        }
      ]
    },
    {
      "cell_type": "code",
      "metadata": {
        "id": "vdEiRgW-wdWX",
        "outputId": "463cfc5d-8e21-4127-d41a-6b31c6d193aa",
        "colab": {
          "base_uri": "https://localhost:8080/",
          "height": 34
        }
      },
      "source": [
        "# f)\n",
        "cur.execute(\"SELECT City, Country FROM Weather WHERE Season='Fall' AND Temperature>20 ORDER BY Temperature\")\n",
        "cur.fetchall()"
      ],
      "execution_count": null,
      "outputs": [
        {
          "output_type": "execute_result",
          "data": {
            "text/plain": [
              "[('Cairo', 'Egypt'), ('Mumbai', 'India')]"
            ]
          },
          "metadata": {
            "tags": []
          },
          "execution_count": 30
        }
      ]
    },
    {
      "cell_type": "code",
      "metadata": {
        "id": "h1oqmaSVwWV9",
        "outputId": "48b40a74-90bb-4087-d515-7683d9c68a29",
        "colab": {
          "base_uri": "https://localhost:8080/",
          "height": 34
        }
      },
      "source": [
        "# g)\n",
        "cur.execute(\"SELECT SUM(Rainfall) from Weather WHERE City='Cairo'\")\n",
        "cur.fetchall()"
      ],
      "execution_count": null,
      "outputs": [
        {
          "output_type": "execute_result",
          "data": {
            "text/plain": [
              "[(27.6,)]"
            ]
          },
          "metadata": {
            "tags": []
          },
          "execution_count": 32
        }
      ]
    },
    {
      "cell_type": "code",
      "metadata": {
        "id": "8m5Tj9eHwQsw",
        "outputId": "343bccd2-c5df-4561-eb0c-94eb8663ab65",
        "colab": {
          "base_uri": "https://localhost:8080/",
          "height": 85
        }
      },
      "source": [
        "# h)\n",
        "cur.execute(\"SELECT DISTINCT Season, SUM(Rainfall) FROM Weather GROUP BY Season\")\n",
        "cur.fetchall()"
      ],
      "execution_count": null,
      "outputs": [
        {
          "output_type": "execute_result",
          "data": {
            "text/plain": [
              "[('Fall', 569.0),\n",
              " ('Spring', 192.29999999999998),\n",
              " ('Summer', 1706.5),\n",
              " ('Winter', 230.1)]"
            ]
          },
          "metadata": {
            "tags": []
          },
          "execution_count": 34
        }
      ]
    },
    {
      "cell_type": "markdown",
      "metadata": {
        "id": "DjieQ7lhxWj6"
      },
      "source": [
        "##**Question 10**\n",
        "Write list comprehension expressions"
      ]
    },
    {
      "cell_type": "code",
      "metadata": {
        "id": "C4y-tf0W0u6A"
      },
      "source": [
        "words = ['The', 'quick', 'brown', 'fox', 'jumps', 'over', 'the', 'lazy', 'dog']"
      ],
      "execution_count": null,
      "outputs": []
    },
    {
      "cell_type": "code",
      "metadata": {
        "id": "wvXE2luY07RQ",
        "outputId": "f72ccadc-4048-4063-b7ce-17c9de63f71c",
        "colab": {
          "base_uri": "https://localhost:8080/",
          "height": 34
        }
      },
      "source": [
        "# a)\n",
        "[i.upper() for i in words]"
      ],
      "execution_count": null,
      "outputs": [
        {
          "output_type": "execute_result",
          "data": {
            "text/plain": [
              "['THE', 'QUICK', 'BROWN', 'FOX', 'JUMPS', 'OVER', 'THE', 'LAZY', 'DOG']"
            ]
          },
          "metadata": {
            "tags": []
          },
          "execution_count": 40
        }
      ]
    },
    {
      "cell_type": "code",
      "metadata": {
        "id": "HWpbVsFQ1OdE",
        "outputId": "6401ac22-15a9-48c8-f947-2dc85f135e16",
        "colab": {
          "base_uri": "https://localhost:8080/",
          "height": 34
        }
      },
      "source": [
        "# b)\n",
        "[i.lower() for i in words]"
      ],
      "execution_count": null,
      "outputs": [
        {
          "output_type": "execute_result",
          "data": {
            "text/plain": [
              "['the', 'quick', 'brown', 'fox', 'jumps', 'over', 'the', 'lazy', 'dog']"
            ]
          },
          "metadata": {
            "tags": []
          },
          "execution_count": 42
        }
      ]
    },
    {
      "cell_type": "code",
      "metadata": {
        "id": "65yueyRV1Y9T",
        "outputId": "a1001803-ece9-44b0-d0d3-02fd27bd6768",
        "colab": {
          "base_uri": "https://localhost:8080/",
          "height": 34
        }
      },
      "source": [
        "# c)\n",
        "[len(i) for i in words]"
      ],
      "execution_count": null,
      "outputs": [
        {
          "output_type": "execute_result",
          "data": {
            "text/plain": [
              "[3, 5, 5, 3, 5, 4, 3, 4, 3]"
            ]
          },
          "metadata": {
            "tags": []
          },
          "execution_count": 43
        }
      ]
    },
    {
      "cell_type": "code",
      "metadata": {
        "id": "Civ7fZjW1dui",
        "outputId": "8bbb2f96-93eb-49f4-9d48-4e207782613f",
        "colab": {
          "base_uri": "https://localhost:8080/",
          "height": 170
        }
      },
      "source": [
        "# d)\n",
        "[[i.upper(), i.lower(), len(i)] for i in words]"
      ],
      "execution_count": null,
      "outputs": [
        {
          "output_type": "execute_result",
          "data": {
            "text/plain": [
              "[['THE', 'the', 3],\n",
              " ['QUICK', 'quick', 5],\n",
              " ['BROWN', 'brown', 5],\n",
              " ['FOX', 'fox', 3],\n",
              " ['JUMPS', 'jumps', 5],\n",
              " ['OVER', 'over', 4],\n",
              " ['THE', 'the', 3],\n",
              " ['LAZY', 'lazy', 4],\n",
              " ['DOG', 'dog', 3]]"
            ]
          },
          "metadata": {
            "tags": []
          },
          "execution_count": 44
        }
      ]
    },
    {
      "cell_type": "code",
      "metadata": {
        "id": "KJQUSwpJ1nfO",
        "outputId": "7da34f9e-63f1-460f-d9c5-dc31fdc18be3",
        "colab": {
          "base_uri": "https://localhost:8080/",
          "height": 34
        }
      },
      "source": [
        "# e)\n",
        "[i for i in words if len(i)>=4]"
      ],
      "execution_count": null,
      "outputs": [
        {
          "output_type": "execute_result",
          "data": {
            "text/plain": [
              "['quick', 'brown', 'jumps', 'over', 'lazy']"
            ]
          },
          "metadata": {
            "tags": []
          },
          "execution_count": 45
        }
      ]
    }
  ]
}